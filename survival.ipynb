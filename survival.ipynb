{
 "cells": [
  {
   "cell_type": "code",
   "execution_count": 1,
   "metadata": {},
   "outputs": [],
   "source": [
    "import numpy as np\n",
    "import maze_lab1 as mz\n",
    "import matplotlib.pyplot as plt\n",
    "import scipy.stats as stats"
   ]
  },
  {
   "cell_type": "code",
   "execution_count": 2,
   "metadata": {},
   "outputs": [],
   "source": [
    "# Description of the maze as a numpy array\n",
    "maze = np.array([\n",
    "    [0, 0, 1, 0, 0, 0, 0, 0],\n",
    "    [0, 0, 1, 0, 0, 1, 0, 0],\n",
    "    [0, 0, 1, 0, 0, 1, 1, 1],\n",
    "    [0, 0, 1, 0, 0, 1, 0, 0],\n",
    "    [0, 0, 0, 0, 0, 0, 0, 0],\n",
    "    [0, 1, 1, 1, 1, 1, 1, 0],\n",
    "    [0, 0, 0, 0, 1, 2, 0, 0]\n",
    "])\n",
    "# with the convention \n",
    "# 0 = empty cell\n",
    "# 1 = obstacle\n",
    "# 2 = exit of the Maze"
   ]
  },
  {
   "cell_type": "code",
   "execution_count": 14,
   "metadata": {},
   "outputs": [
    {
     "name": "stdout",
     "output_type": "stream",
     "text": [
      "Minotaur always moves:\n",
      "T = 13, win 00.00%, dead 00.12%\n",
      "T = 14, win 100.00%, dead 00.00%\n",
      "T = 15, win 100.00%, dead 00.00%\n",
      "T = 16, win 100.00%, dead 00.00%\n",
      "T = 17, win 100.00%, dead 00.00%\n",
      "T = 18, win 100.00%, dead 00.00%\n",
      "T = 19, win 100.00%, dead 00.00%\n",
      "T = 20, win 100.00%, dead 00.00%\n",
      "Avoid minotaur:\n",
      "T = 13, win 00.00%, dead 00.00%\n",
      "T = 14, win 27.94%, dead 00.00%\n",
      "T = 15, win 42.42%, dead 00.00%\n",
      "T = 16, win 51.91%, dead 00.00%\n",
      "T = 17, win 59.89%, dead 00.00%\n",
      "T = 18, win 66.38%, dead 00.00%\n",
      "T = 19, win 71.86%, dead 00.00%\n",
      "T = 20, win 76.40%, dead 00.00%\n",
      "Get out or die trying:\n",
      "T = 13, win 00.00%, dead 00.00%\n",
      "T = 14, win 71.18%, dead 28.82%\n",
      "T = 15, win 71.18%, dead 28.82%\n",
      "T = 16, win 72.04%, dead 27.96%\n",
      "T = 17, win 76.30%, dead 23.70%\n",
      "T = 18, win 78.17%, dead 21.83%\n",
      "T = 19, win 79.43%, dead 20.57%\n",
      "T = 20, win 81.62%, dead 18.38%\n"
     ]
    }
   ],
   "source": [
    "T_range = np.array(range(13, 21));\n",
    "\n",
    "print(\"Minotaur always moves:\")\n",
    "move_rates = mz.survival_rates_dynprog(maze, mz.Pos(6,5), T_range, minotaur_stay = False, avoid_minotaur = False);\n",
    "print(\"Avoid minotaur:\");\n",
    "avoid_rates = mz.survival_rates_dynprog(maze, mz.Pos(6,5), T_range, minotaur_stay = True, avoid_minotaur = True);\n",
    "print(\"Get out or die trying:\")\n",
    "try_rates = mz.survival_rates_dynprog(maze, mz.Pos(6,5), T_range, minotaur_stay = True, avoid_minotaur = False);\n",
    "#print(\"Min path:\")\n",
    "#min_path = mz.survival_rates_dynprog(maze, mz.Pos(6,5), T_range, minotaur_stay = True, avoid_minotaur = False, min_path = True);"
   ]
  },
  {
   "cell_type": "code",
   "execution_count": 3,
   "metadata": {},
   "outputs": [
    {
     "ename": "NameError",
     "evalue": "name 'T_range' is not defined",
     "output_type": "error",
     "traceback": [
      "\u001b[0;31m---------------------------------------------------------------------------\u001b[0m",
      "\u001b[0;31mNameError\u001b[0m                                 Traceback (most recent call last)",
      "\u001b[0;32m<ipython-input-3-4ce58c3434b2>\u001b[0m in \u001b[0;36m<module>\u001b[0;34m\u001b[0m\n\u001b[1;32m      1\u001b[0m \u001b[0mplt\u001b[0m\u001b[0;34m.\u001b[0m\u001b[0mfigure\u001b[0m\u001b[0;34m(\u001b[0m\u001b[0;34m)\u001b[0m\u001b[0;34m;\u001b[0m\u001b[0;34m\u001b[0m\u001b[0;34m\u001b[0m\u001b[0m\n\u001b[0;32m----> 2\u001b[0;31m \u001b[0mmove_plot\u001b[0m\u001b[0;34m,\u001b[0m \u001b[0;34m=\u001b[0m \u001b[0mplt\u001b[0m\u001b[0;34m.\u001b[0m\u001b[0mplot\u001b[0m\u001b[0;34m(\u001b[0m\u001b[0mT_range\u001b[0m\u001b[0;34m,\u001b[0m \u001b[0mmove_rates\u001b[0m\u001b[0;34m,\u001b[0m \u001b[0mlabel\u001b[0m \u001b[0;34m=\u001b[0m \u001b[0;34m\"a) Minotaur can't stand still\"\u001b[0m\u001b[0;34m)\u001b[0m\u001b[0;34m;\u001b[0m\u001b[0;34m\u001b[0m\u001b[0;34m\u001b[0m\u001b[0m\n\u001b[0m\u001b[1;32m      3\u001b[0m \u001b[0mtry_plot\u001b[0m\u001b[0;34m,\u001b[0m \u001b[0;34m=\u001b[0m \u001b[0mplt\u001b[0m\u001b[0;34m.\u001b[0m\u001b[0mplot\u001b[0m\u001b[0;34m(\u001b[0m\u001b[0mT_range\u001b[0m\u001b[0;34m,\u001b[0m \u001b[0mtry_rates\u001b[0m\u001b[0;34m,\u001b[0m \u001b[0mlabel\u001b[0m \u001b[0;34m=\u001b[0m \u001b[0;34m\"b) Get out or die trying\"\u001b[0m\u001b[0;34m)\u001b[0m\u001b[0;34m;\u001b[0m\u001b[0;34m\u001b[0m\u001b[0;34m\u001b[0m\u001b[0m\n\u001b[1;32m      4\u001b[0m \u001b[0mavoid_plot\u001b[0m\u001b[0;34m,\u001b[0m \u001b[0;34m=\u001b[0m \u001b[0mplt\u001b[0m\u001b[0;34m.\u001b[0m\u001b[0mplot\u001b[0m\u001b[0;34m(\u001b[0m\u001b[0mT_range\u001b[0m\u001b[0;34m,\u001b[0m \u001b[0mavoid_rates\u001b[0m\u001b[0;34m,\u001b[0m \u001b[0mlabel\u001b[0m \u001b[0;34m=\u001b[0m \u001b[0;34m\"c) Avoid minotaur\"\u001b[0m\u001b[0;34m)\u001b[0m\u001b[0;34m;\u001b[0m\u001b[0;34m\u001b[0m\u001b[0;34m\u001b[0m\u001b[0m\n\u001b[1;32m      5\u001b[0m \u001b[0mplt\u001b[0m\u001b[0;34m.\u001b[0m\u001b[0mlegend\u001b[0m\u001b[0;34m(\u001b[0m\u001b[0mhandles\u001b[0m \u001b[0;34m=\u001b[0m \u001b[0;34m[\u001b[0m\u001b[0mmove_plot\u001b[0m\u001b[0;34m,\u001b[0m \u001b[0mtry_plot\u001b[0m\u001b[0;34m,\u001b[0m \u001b[0mavoid_plot\u001b[0m\u001b[0;34m]\u001b[0m\u001b[0;34m)\u001b[0m\u001b[0;34m;\u001b[0m\u001b[0;34m\u001b[0m\u001b[0;34m\u001b[0m\u001b[0m\n",
      "\u001b[0;31mNameError\u001b[0m: name 'T_range' is not defined"
     ]
    },
    {
     "data": {
      "text/plain": [
       "<Figure size 432x288 with 0 Axes>"
      ]
     },
     "metadata": {},
     "output_type": "display_data"
    }
   ],
   "source": [
    "plt.figure();\n",
    "move_plot, = plt.plot(T_range, move_rates, label = \"a) Minotaur can't stand still\");\n",
    "try_plot, = plt.plot(T_range, try_rates, label = \"b) Get out or die trying\");\n",
    "avoid_plot, = plt.plot(T_range, avoid_rates, label = \"c) Avoid minotaur\");\n",
    "plt.legend(handles = [move_plot, try_plot, avoid_plot]);\n",
    "\n",
    "plt.xlabel('T');\n",
    "plt.ylabel('probability to escape maze');\n",
    "\n",
    "plt.savefig(\"dynprog_prob.pdf\");"
   ]
  },
  {
   "cell_type": "code",
   "execution_count": 6,
   "metadata": {},
   "outputs": [
    {
     "name": "stdout",
     "output_type": "stream",
     "text": [
      "Survived 52.710000%, compared to 60.138300% baseline\n",
      "Avg. lifetime  13.7501\n"
     ]
    }
   ],
   "source": [
    "mz.survival_rate_valiter(maze, mz.Pos(6,5), mean_lifetime = 30, min_steps = 15, minotaur_stay = True, avoid_minotaur = False, min_path = True);"
   ]
  },
  {
   "cell_type": "code",
   "execution_count": 5,
   "metadata": {},
   "outputs": [
    {
     "name": "stdout",
     "output_type": "stream",
     "text": [
      "Survived 53.630000%, compared to 60.138300% baseline\n",
      "Avg. lifetime  13.9124\n"
     ]
    }
   ],
   "source": [
    "mz.survival_rate_valiter(maze, mz.Pos(6,5), mean_lifetime = 30, min_steps = 15, minotaur_stay = True, avoid_minotaur = False, min_path = False);"
   ]
  }
 ],
 "metadata": {
  "kernelspec": {
   "display_name": "Python 3",
   "language": "python",
   "name": "python3"
  },
  "language_info": {
   "codemirror_mode": {
    "name": "ipython",
    "version": 3
   },
   "file_extension": ".py",
   "mimetype": "text/x-python",
   "name": "python",
   "nbconvert_exporter": "python",
   "pygments_lexer": "ipython3",
   "version": "3.7.4"
  }
 },
 "nbformat": 4,
 "nbformat_minor": 2
}
