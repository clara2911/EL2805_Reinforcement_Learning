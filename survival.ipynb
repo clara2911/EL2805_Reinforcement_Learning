{
 "cells": [
  {
   "cell_type": "code",
   "execution_count": 1,
   "metadata": {},
   "outputs": [],
   "source": [
    "import numpy as np\n",
    "import maze_lab1 as mz\n",
    "import matplotlib.pyplot as plt"
   ]
  },
  {
   "cell_type": "code",
   "execution_count": 2,
   "metadata": {},
   "outputs": [],
   "source": [
    "# Description of the maze as a numpy array\n",
    "maze = np.array([\n",
    "    [0, 0, 1, 0, 0, 0, 0, 0],\n",
    "    [0, 0, 1, 0, 0, 1, 0, 0],\n",
    "    [0, 0, 1, 0, 0, 1, 1, 1],\n",
    "    [0, 0, 1, 0, 0, 1, 0, 0],\n",
    "    [0, 0, 0, 0, 0, 0, 0, 0],\n",
    "    [0, 1, 1, 1, 1, 1, 1, 0],\n",
    "    [0, 0, 0, 0, 1, 2, 0, 0]\n",
    "])\n",
    "# with the convention \n",
    "# 0 = empty cell\n",
    "# 1 = obstacle\n",
    "# 2 = exit of the Maze"
   ]
  },
  {
   "cell_type": "code",
   "execution_count": 6,
   "metadata": {},
   "outputs": [
    {
     "name": "stdout",
     "output_type": "stream",
     "text": [
      "Avoid minotaur:\n",
      "T = 13, win 00.00%, dead 00.00%\n",
      "T = 14, win 32.09%, dead 00.00%\n",
      "T = 15, win 47.18%, dead 00.00%\n",
      "T = 16, win 56.55%, dead 00.00%\n",
      "T = 17, win 64.30%, dead 00.00%\n",
      "T = 18, win 70.50%, dead 00.00%\n",
      "T = 19, win 75.67%, dead 00.00%\n",
      "Get out or die trying:\n",
      "T = 13, win 00.00%, dead 00.00%\n",
      "T = 14, win 74.13%, dead 25.87%\n",
      "T = 15, win 74.13%, dead 25.87%\n",
      "T = 16, win 75.01%, dead 24.99%\n",
      "T = 17, win 78.77%, dead 21.23%\n",
      "T = 18, win 80.38%, dead 19.62%\n",
      "T = 19, win 81.55%, dead 18.45%\n"
     ]
    }
   ],
   "source": [
    "T_range = np.array(range(13, 20));\n",
    "\n",
    "print(\"Avoid minotaur:\");\n",
    "avoid_rates = mz.survival_rates(maze, mz.Pos(6,5), T_range, minotaur_stay = True, avoid_minotaur = True);\n",
    "print(\"Get out or die trying:\")\n",
    "try_rates = mz.survival_rates(maze, mz.Pos(6,5), T_range, minotaur_stay = True, avoid_minotaur = False);"
   ]
  },
  {
   "cell_type": "code",
   "execution_count": 5,
   "metadata": {},
   "outputs": [
    {
     "data": {
      "image/png": "[encoded data removed]",
      "text/plain": [
       "<Figure size 432x288 with 1 Axes>"
      ]
     },
     "metadata": {
      "needs_background": "light"
     },
     "output_type": "display_data"
    }
   ],
   "source": [
    "plt.plot(T_range, avoid_rates, T_range, try_rates);"
   ]
  }
 ],
 "metadata": {
  "kernelspec": {
   "display_name": "Python 3",
   "language": "python",
   "name": "python3"
  },
  "language_info": {
   "codemirror_mode": {
    "name": "ipython",
    "version": 3
   },
   "file_extension": ".py",
   "mimetype": "text/x-python",
   "name": "python",
   "nbconvert_exporter": "python",
   "pygments_lexer": "ipython3",
   "version": "3.6.9"
  }
 },
 "nbformat": 4,
 "nbformat_minor": 2
}
